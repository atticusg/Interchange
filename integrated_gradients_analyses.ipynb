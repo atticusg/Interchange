{
 "cells": [
  {
   "cell_type": "markdown",
   "metadata": {},
   "source": [
    "# Integrated Gradients analyses"
   ]
  },
  {
   "cell_type": "markdown",
   "metadata": {},
   "source": [
    "## Set-up"
   ]
  },
  {
   "cell_type": "code",
   "execution_count": null,
   "metadata": {},
   "outputs": [],
   "source": [
    "from collections import defaultdict, OrderedDict\n",
    "import json\n",
    "import matplotlib.pyplot as plt\n",
    "import numpy as np\n",
    "import os\n",
    "import pandas as pd\n",
    "\n",
    "from feature_importance import IntegratedGradientsBERT, IntegratedGradientsLSTM"
   ]
  },
  {
   "cell_type": "code",
   "execution_count": null,
   "metadata": {},
   "outputs": [],
   "source": [
    "src_dirname = os.path.join(\"..\", \"ig-bert-results\")"
   ]
  },
  {
   "cell_type": "code",
   "execution_count": null,
   "metadata": {},
   "outputs": [],
   "source": [
    "plt.style.use('interchange.mplstyle')"
   ]
  },
  {
   "cell_type": "markdown",
   "metadata": {},
   "source": [
    "## Analysis functions"
   ]
  },
  {
   "cell_type": "code",
   "execution_count": null,
   "metadata": {},
   "outputs": [],
   "source": [
    "pos = ['Neg', 'Q', 'Adj', 'N',\n",
    "       'Aux', 'Neg',\n",
    "       'Adv', 'V',\n",
    "       'Neg', 'Q', 'Adj', 'N']\n",
    "\n",
    "positions = ['[CLS]']\n",
    "positions += pos\n",
    "positions += ['[SEP]']\n",
    "positions += pos\n",
    "positions += ['[SEP]']\n",
    "\n",
    "bert_pos_map = dict(zip(range(len(positions)), positions))"
   ]
  },
  {
   "cell_type": "code",
   "execution_count": null,
   "metadata": {},
   "outputs": [],
   "source": [
    "# Alignment with BERT for comparisons; choices around\n",
    "# Neg/Q and Aux/Neg are a bit arbitrary:\n",
    "\n",
    "lstm_pos_map = OrderedDict([\n",
    "    [2, 'Q'],\n",
    "    [3, 'Adj'],\n",
    "    [4, 'N'],\n",
    "    [6, 'Neg'],\n",
    "    [7, 'Adv'],\n",
    "    [8, 'V'],\n",
    "    [10, 'Q'],\n",
    "    [11, 'Adj'],\n",
    "    [12, 'N'],\n",
    "    [13, '[SEP]'],\n",
    "    [15, 'Q'],\n",
    "    [16, 'Adj'],\n",
    "    [17, 'N'],\n",
    "    [19, 'Neg'],\n",
    "    [20, 'Adv'],\n",
    "    [21, 'V'],\n",
    "    [23, 'Q'],\n",
    "    [24, 'Adj'],\n",
    "    [25, 'N']\n",
    "])\n",
    "\n",
    "lstm_index_map = dict(zip(range(len(lstm_pos_map)), lstm_pos_map.keys()))"
   ]
  },
  {
   "cell_type": "code",
   "execution_count": null,
   "metadata": {},
   "outputs": [],
   "source": [
    "def load_data(src_basename, src_dirname=src_dirname):\n",
    "    src_filename = os.path.join(src_dirname, src_basename)\n",
    "    with open(src_filename) as f:\n",
    "        data = json.load(f)\n",
    "    return data"
   ]
  },
  {
   "cell_type": "code",
   "execution_count": null,
   "metadata": {},
   "outputs": [],
   "source": [
    "def visualize(data, n=5):\n",
    "    IntegratedGradientsBERT.visualize(data[: n])"
   ]
  },
  {
   "cell_type": "code",
   "execution_count": null,
   "metadata": {},
   "outputs": [],
   "source": [
    "def class_distribution(data):\n",
    "    return pd.Series([d['true_class'] for d in data]).value_counts()"
   ]
  },
  {
   "cell_type": "code",
   "execution_count": null,
   "metadata": {},
   "outputs": [],
   "source": [
    "def token_level_frame(data, pos_map=bert_pos_map, index_map=None):\n",
    "    tok_df = []\n",
    "    for d in data:\n",
    "        toks = d['raw_input']\n",
    "        scores = d['word_attributions']\n",
    "        for i, (tok, score) in enumerate(zip(toks, scores)):\n",
    "            if index_map is not None:\n",
    "                i = index_map[i]\n",
    "            tok_df.append({\n",
    "                'token': tok,\n",
    "                'position': i,\n",
    "                'ling_position': pos_map[i],\n",
    "                'score': score,\n",
    "                'true_class': d['true_class'],\n",
    "                'pred_class': d['pred_class']\n",
    "            })\n",
    "    return pd.DataFrame(tok_df)"
   ]
  },
  {
   "cell_type": "code",
   "execution_count": null,
   "metadata": {},
   "outputs": [],
   "source": [
    "def tok_means(tok_df):\n",
    "    return tok_df.groupby('token').apply(lambda x: x['score'].mean())"
   ]
  },
  {
   "cell_type": "code",
   "execution_count": null,
   "metadata": {},
   "outputs": [],
   "source": [
    "def tok_means_by_class(tok_df):\n",
    "    return tok_df.groupby('token').apply(\n",
    "        lambda x: x.groupby('true_class').apply(lambda x: x['score'].mean()))"
   ]
  },
  {
   "cell_type": "code",
   "execution_count": null,
   "metadata": {},
   "outputs": [],
   "source": [
    "def pos_means(tok_df, correct_only=True):\n",
    "    if correct_only:\n",
    "        tok_df = tok_df[tok_df['true_class'] == tok_df['pred_class']]\n",
    "    mu = tok_df.groupby(['position', 'ling_position']).apply(lambda x: x['score'].mean())\n",
    "    return mu#.sort_values(ascending=False)"
   ]
  },
  {
   "cell_type": "code",
   "execution_count": null,
   "metadata": {},
   "outputs": [],
   "source": [
    "def pos_means_comparative_viz(*pos_dfs, colnames, correct_only=True, output_filename=None, colors=None):\n",
    "    df = pd.concat(pos_dfs, axis=1)\n",
    "    df.columns = colnames\n",
    "    df = df.sort_index(0, ascending=False).droplevel('position')\n",
    "    ax = df.plot.barh(figsize=(12, 14), color=colors)\n",
    "    ax.set_ylabel(\"\")\n",
    "    ax.set_xlabel(\"Mean importance\")\n",
    "    if output_filename:\n",
    "        plt.tight_layout()\n",
    "        plt.savefig(output_filename, dpi=200)"
   ]
  },
  {
   "cell_type": "code",
   "execution_count": null,
   "metadata": {},
   "outputs": [],
   "source": [
    "def diff_cmp(data, pos_map=bert_pos_map):\n",
    "    all_diffs = []\n",
    "    for d in data:\n",
    "        toks = d['raw_input']\n",
    "        scores = d['word_attributions']\n",
    "        sep_index = toks.index('[SEP]')\n",
    "        prem = toks[1: sep_index]\n",
    "        hyp =  toks[sep_index+1: -1]\n",
    "        assert len(prem) == len(hyp)\n",
    "        diffs = []\n",
    "        for i, (p, h) in enumerate(zip(prem, hyp), start=1):\n",
    "            if p != h:\n",
    "                diffs.append({\n",
    "                    'prem_tok': p,\n",
    "                    'hyp_tok': h,\n",
    "                    'prem_index': i,\n",
    "                    'prem_ling_pos': pos_map[i],\n",
    "                    'prem_imp': scores[i],\n",
    "                    'hyp_index': i, # + sep_index,\n",
    "                    'hyp_ling_pos': positions[i + sep_index],\n",
    "                    'hyp_imp': scores[i + sep_index]})\n",
    "        these_data = {'example': d, 'diffs': diffs}\n",
    "        all_diffs.append(these_data)\n",
    "    return all_diffs"
   ]
  },
  {
   "cell_type": "code",
   "execution_count": null,
   "metadata": {},
   "outputs": [],
   "source": [
    "def diff_cmp_viz(data, premise=True, output_filename=None):\n",
    "    cat = 'prem_imp' if premise else 'hyp_imp'\n",
    "    title = \"Premise\" if premise else \"Hypothesis\"\n",
    "    all_diffs = diff_cmp(data)\n",
    "    singles = [ex for ex in all_diffs if len(ex['diffs']) == 1]\n",
    "    flat_singles = []\n",
    "    for ex in singles:\n",
    "        d = ex['diffs'][0]\n",
    "        d['pred_class'] = ex['example']['pred_class']\n",
    "        flat_singles.append(d)\n",
    "    sing_df = pd.DataFrame(flat_singles)\n",
    "    ax = sing_df.boxplot(cat, 'pred_class', figsize=(9, 8), notch=True)\n",
    "    ax.set_xlabel(\"\")\n",
    "    ax.set_ylabel(\"Importance\")\n",
    "    _ = plt.suptitle(\"\")\n",
    "    _ = plt.title(title)\n",
    "    if output_filename:\n",
    "        plt.savefig(output_filename, dpi=200)"
   ]
  },
  {
   "cell_type": "markdown",
   "metadata": {},
   "source": [
    "## Analyses"
   ]
  },
  {
   "cell_type": "code",
   "execution_count": null,
   "metadata": {},
   "outputs": [],
   "source": [
    "easy_emb = load_data(\"ig-bert-easy-emb-10k.json\")\n",
    "\n",
    "easy_emb_df = token_level_frame(easy_emb)"
   ]
  },
  {
   "cell_type": "code",
   "execution_count": null,
   "metadata": {},
   "outputs": [],
   "source": [
    "hard_emb = load_data(\"ig-bert-hard-emb-10k.json\")\n",
    "\n",
    "hard_emb_df = token_level_frame(hard_emb)"
   ]
  },
  {
   "cell_type": "code",
   "execution_count": null,
   "metadata": {},
   "outputs": [],
   "source": [
    "lstm_easy_emb = load_data(\"ig-lstm-easy-emb-10k.json\")\n",
    "\n",
    "lstm_easy_emb_df = token_level_frame(lstm_easy_emb, pos_map=lstm_pos_map, index_map=lstm_index_map)"
   ]
  },
  {
   "cell_type": "code",
   "execution_count": null,
   "metadata": {},
   "outputs": [],
   "source": [
    "lstm_hard_emb = load_data(\"ig-lstm-hard-emb-10k.json\")\n",
    "\n",
    "lstm_hard_emb_df = token_level_frame(lstm_hard_emb, pos_map=lstm_pos_map, index_map=lstm_index_map)"
   ]
  },
  {
   "cell_type": "code",
   "execution_count": null,
   "metadata": {},
   "outputs": [],
   "source": [
    "easy_emb_pos = pos_means(easy_emb_df)"
   ]
  },
  {
   "cell_type": "code",
   "execution_count": null,
   "metadata": {},
   "outputs": [],
   "source": [
    "hard_emb_pos = pos_means(hard_emb_df)"
   ]
  },
  {
   "cell_type": "code",
   "execution_count": null,
   "metadata": {},
   "outputs": [],
   "source": [
    "lstm_easy_emb_pos = pos_means(lstm_easy_emb_df)"
   ]
  },
  {
   "cell_type": "code",
   "execution_count": null,
   "metadata": {},
   "outputs": [],
   "source": [
    "lstm_hard_emb_pos = pos_means(lstm_hard_emb_df)"
   ]
  },
  {
   "cell_type": "code",
   "execution_count": null,
   "metadata": {},
   "outputs": [],
   "source": [
    "pos_means_comparative_viz(\n",
    "    lstm_easy_emb_pos, lstm_hard_emb_pos, easy_emb_pos, hard_emb_pos,\n",
    "    colnames=['LSTM-easy', 'LSTM-hard', 'BERT-easy', 'BERT-hard'],\n",
    "    output_filename='../pos_emb_easy_hard.png',\n",
    "    colors=[\"#648FFF\", \"#785EF0\", \"#DC267F\", \"#FE6100\"])"
   ]
  },
  {
   "cell_type": "code",
   "execution_count": null,
   "metadata": {},
   "outputs": [],
   "source": [
    "easy_11 = load_data(\"ig-bert-easy-layer11-10k.json\")\n",
    "\n",
    "easy_11_df = token_level_frame(easy_11)"
   ]
  },
  {
   "cell_type": "code",
   "execution_count": null,
   "metadata": {},
   "outputs": [],
   "source": [
    "hard_11 = load_data(\"ig-bert-hard-layer11-10k.json\")\n",
    "\n",
    "hard_11_df = token_level_frame(hard_11)"
   ]
  },
  {
   "cell_type": "code",
   "execution_count": null,
   "metadata": {},
   "outputs": [],
   "source": [
    "easy_11_pos = pos_means(easy_11_df)"
   ]
  },
  {
   "cell_type": "code",
   "execution_count": null,
   "metadata": {},
   "outputs": [],
   "source": [
    "hard_11_pos = pos_means(hard_11_df)"
   ]
  },
  {
   "cell_type": "code",
   "execution_count": null,
   "metadata": {},
   "outputs": [],
   "source": [
    "pos_means_comparative_viz(\n",
    "    easy_11_pos, hard_11_pos,\n",
    "    colnames=['easy', 'hard'],\n",
    "    output_filename='../pos_layer11_easy_hard.png')"
   ]
  },
  {
   "cell_type": "code",
   "execution_count": null,
   "metadata": {},
   "outputs": [],
   "source": [
    "diff_cmp_viz(easy_emb, premise=True, output_filename='../singlediff-easy-premise.png')"
   ]
  },
  {
   "cell_type": "code",
   "execution_count": null,
   "metadata": {},
   "outputs": [],
   "source": [
    "diff_cmp_viz(easy_emb, premise=False, output_filename='../singlediff-easy-hypothesis.png')"
   ]
  },
  {
   "cell_type": "code",
   "execution_count": null,
   "metadata": {},
   "outputs": [],
   "source": [
    "diff_cmp_viz(hard_emb, premise=True, output_filename='../singlediff-hard-premise.png')"
   ]
  },
  {
   "cell_type": "code",
   "execution_count": null,
   "metadata": {},
   "outputs": [],
   "source": [
    "diff_cmp_viz(hard_emb, premise=False, output_filename='../singlediff-hard-hypothesis.png')"
   ]
  },
  {
   "cell_type": "code",
   "execution_count": null,
   "metadata": {},
   "outputs": [],
   "source": []
  }
 ],
 "metadata": {
  "kernelspec": {
   "display_name": "Python 3",
   "language": "python",
   "name": "python3"
  },
  "language_info": {
   "codemirror_mode": {
    "name": "ipython",
    "version": 3
   },
   "file_extension": ".py",
   "mimetype": "text/x-python",
   "name": "python",
   "nbconvert_exporter": "python",
   "pygments_lexer": "ipython3",
   "version": "3.8.3"
  }
 },
 "nbformat": 4,
 "nbformat_minor": 4
}
