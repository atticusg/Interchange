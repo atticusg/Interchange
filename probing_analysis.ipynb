{
 "cells": [
  {
   "cell_type": "markdown",
   "metadata": {},
   "source": [
    "# Probing analysis"
   ]
  },
  {
   "cell_type": "markdown",
   "metadata": {},
   "source": [
    "## Setup"
   ]
  },
  {
   "cell_type": "code",
   "execution_count": null,
   "metadata": {},
   "outputs": [],
   "source": [
    "import os\n",
    "import experiment.db_utils as db\n",
    "import json\n",
    "import csv\n",
    "import re\n",
    "from pprint import pprint\n",
    "from collections import defaultdict\n",
    "import probing.utils\n",
    "high_nodes = list(probing.utils.HIGH_NODE_LABEL_SPACE.keys())\n",
    "\n",
    "print(high_nodes)\n"
   ]
  },
  {
   "cell_type": "markdown",
   "metadata": {},
   "source": [
    "## Load data"
   ]
  },
  {
   "cell_type": "code",
   "execution_count": null,
   "metadata": {},
   "outputs": [],
   "source": [
    "bert_easy_probing_rows = db.select(\"data/probing/probing-bert-easy.db\", \"results\", cond_dict={\"status\":1})\n",
    "print(len(bert_easy_probing_rows))\n",
    "bert_easy_interx_rows = db.select(\"data/interchange/bert-easy.db\", \"results\", cond_dict={\"status\": 2})\n",
    "print(len(bert_easy_interx_rows))\n",
    "\n",
    "bert_hard_probing_rows = db.select(\"data/probing/probing-bert-hard.db\", \"results\", cond_dict={\"status\": 1})\n",
    "print(len(bert_hard_probing_rows))\n",
    "bert_hard_interx_rows = db.select(\"data/interchange/bert-hard.db\", \"results\", cond_dict={\"status\":2})\n",
    "print(len(bert_hard_interx_rows))"
   ]
  },
  {
   "cell_type": "code",
   "execution_count": null,
   "metadata": {},
   "outputs": [],
   "source": [
    "lstm_easy_probing_rows = db.select(\"data/probing/probing-lstm-easy.db\", \"results\", cond_dict={\"status\": 1})\n",
    "print(len(lstm_easy_probing_rows))\n",
    "lstm_easy_interx_rows = db.select(\"data/interchange/lstm-easy.db\", \"results\", cond_dict={\"status\": 2})\n",
    "print(len(lstm_easy_interx_rows))\n",
    "\n",
    "lstm_hard_probing_rows = db.select(\"data/probing/probing-lstm-hard.db\", \"results\", cond_dict={\"status\": 1})\n",
    "print(len(lstm_hard_probing_rows))\n",
    "lstm_hard_interx_rows = db.select(\"data/interchange/lstm-hard.db\", \"results\", cond_dict={\"status\": 2})\n",
    "print(len(lstm_hard_interx_rows))"
   ]
  },
  {
   "cell_type": "markdown",
   "metadata": {},
   "source": [
    "## Copy probing csv results from cluster"
   ]
  },
  {
   "cell_type": "code",
   "execution_count": null,
   "metadata": {},
   "outputs": [],
   "source": [
    "def pull_data_from_cluster(rows):\n",
    "    for row in rows:\n",
    "        res_save_path = row[\"res_save_path\"]\n",
    "        res_save_dir = row[\"res_save_dir\"]\n",
    "        if not os.path.exists(res_save_dir):\n",
    "            os.mkdir(res_save_dir)\n",
    "        src_path = os.path.join(\"Interchange\", res_save_path)\n",
    "        \n",
    "        os.system(f\"scp hansonlu@sc.stanford.edu:{src_path} {res_save_path}\")\n",
    "        print(f\"successfully pulled data from {src_path}\")"
   ]
  },
  {
   "cell_type": "code",
   "execution_count": null,
   "metadata": {},
   "outputs": [],
   "source": [
    "# pull_data_from_cluster(bert_easy_probing_rows)\n",
    "# pull_data_from_cluster(lstm_easy_probing_rows)\n",
    "\n",
    "# pull_data_from_cluster(bert_hard_probing_rows)\n",
    "# pull_data_from_cluster(lstm_hard_probing_rows)\n"
   ]
  },
  {
   "cell_type": "markdown",
   "metadata": {},
   "source": [
    "## Find highest accuracy among all grid search instances"
   ]
  },
  {
   "cell_type": "code",
   "execution_count": null,
   "metadata": {},
   "outputs": [],
   "source": [
    "def aggregate_selectivity(rows):\n",
    "    selectivity = {high_node: defaultdict(lambda: [0. for _ in range(len(rows))]) for high_node in high_nodes}\n",
    "\n",
    "    for i, row in enumerate(rows):\n",
    "        with open(row[\"res_save_path\"], \"r\") as f:\n",
    "            reader = csv.DictReader(f)\n",
    "            for row in reader:\n",
    "                high_node = row[\"high_node\"]\n",
    "                probe = (row[\"low_node\"], row[\"low_loc\"])\n",
    "                \n",
    "                train_acc = float(row[\"train_acc\"]) * (-1. if row[\"is_control\"] == \"True\" else 1.)\n",
    "                \n",
    "                selectivity[high_node][probe][i] += train_acc\n",
    "                \n",
    "    max_selectivity = {high_node: {} for high_node in high_nodes}\n",
    "    \n",
    "    for high_node, d in selectivity.items():\n",
    "        for probe, vals in d.items():\n",
    "            for val in vals:\n",
    "                max_selectivity[high_node][probe] = max(max_selectivity[high_node].get(probe, -float(\"inf\")), val)\n",
    "\n",
    "    return max_selectivity\n",
    "\n",
    "\n",
    "def aggregate_accuracy(rows):\n",
    "    accuracy = {high_node: defaultdict(lambda: [0. for _ in range(len(rows))]) for high_node in high_nodes}\n",
    "\n",
    "    for i, row in enumerate(rows):\n",
    "        with open(row[\"res_save_path\"], \"r\") as f:\n",
    "            reader = csv.DictReader(f)\n",
    "            for row in reader:\n",
    "                if row[\"is_control\"] == \"True\": continue\n",
    "    \n",
    "                high_node = row[\"high_node\"]\n",
    "                probe = (row[\"low_node\"], row[\"low_loc\"])\n",
    "                \n",
    "                train_acc = float(row[\"train_acc\"])\n",
    "                \n",
    "                accuracy[high_node][probe][i] = train_acc\n",
    "                \n",
    "    max_accuracy = {high_node: {} for high_node in high_nodes}\n",
    "    \n",
    "    for high_node, d in accuracy.items():\n",
    "        for probe, vals in d.items():\n",
    "            for val in vals:\n",
    "                max_accuracy[high_node][probe] = max(max_accuracy[high_node].get(probe, -float(\"inf\")), val)\n",
    "\n",
    "    return max_accuracy\n",
    "\n",
    "# def aggregate_accuracy_results(rows):\n",
    "#     acc_all_res = {high_node: defaultdict(list) for high_node in high_nodes}\n",
    "#     acc_max_res = {high_node: defaultdict(float) for high_node in high_nodes}\n",
    "    \n",
    "#     selectivity = {high_node: defaultdict(lambda: [0. for _ in range(len(rows))]) for high_node in high_nodes}\n",
    "\n",
    "#     for i, row in enumerate(rows):\n",
    "#         with open(row[\"res_save_path\"], \"r\") as f:\n",
    "#             reader = csv.DictReader(f)\n",
    "#             for row in reader:\n",
    "#                 high_node = row[\"high_node\"]\n",
    "#                 probe = (row[\"low_node\"], row[\"low_loc\"])\n",
    "                \n",
    "#                 train_acc = float(row[\"train_acc\"]) * (-1. if row[\"is_control\"] == \"True\" else 1.)\n",
    "                \n",
    "#                 selectivity[high_node][probe][i] += train_acc\n",
    "                \n",
    "#     max_selectivity = {high_node: {} for high_node in high_nodes}\n",
    "    \n",
    "#     for high_node, d in selectivity.items():\n",
    "#         for probe, vals in d.items():\n",
    "#             for val in vals:\n",
    "#                 max_selectivity[high_node][probe] = max(max_selectivity[high_node].get(probe, -float(\"inf\")), val)\n",
    "\n",
    "#     return max_selectivity\n",
    "\n",
    "    "
   ]
  },
  {
   "cell_type": "code",
   "execution_count": null,
   "metadata": {},
   "outputs": [],
   "source": [
    "bert_easy_probing_max_sel = aggregate_selectivity(bert_easy_probing_rows)\n",
    "lstm_easy_probing_max_sel = aggregate_selectivity(lstm_easy_probing_rows)\n",
    "\n",
    "bert_hard_probing_max_sel = aggregate_selectivity(bert_hard_probing_rows)\n",
    "lstm_hard_probing_max_sel = aggregate_selectivity(lstm_hard_probing_rows)\n",
    "\n",
    "bert_hard_probing_max_acc = aggregate_accuracy(bert_hard_probing_rows)\n"
   ]
  },
  {
   "cell_type": "markdown",
   "metadata": {},
   "source": [
    "## Analyze Probing Grid Search results"
   ]
  },
  {
   "cell_type": "code",
   "execution_count": null,
   "metadata": {},
   "outputs": [],
   "source": [
    "def aggregate_by_grid_search(rows):\n",
    "    sums = [0. for _ in range(len(rows))]\n",
    "    counts = [0 for _ in range(len(rows))]\n",
    "    for i, db_row in enumerate(rows):\n",
    "        with open(db_row[\"res_save_path\"], \"r\") as f:\n",
    "            reader = csv.DictReader(f)\n",
    "            for row in reader:\n",
    "                train_acc = float(row[\"train_acc\"]) * (-1. if row[\"is_control\"] == \"True\" else 1.)\n",
    "                sums[i] += train_acc\n",
    "                if row[\"is_control\"] == \"True\":\n",
    "                    counts[i] += 1\n",
    "                \n",
    "    return [s/c for s, c in zip(sums, counts)]\n",
    "\n",
    "def compare_lr(values):\n",
    "    low_lr_sum = 0\n",
    "    high_lr_sum = 0\n",
    "\n",
    "    for i in range(0, len(values), 4):\n",
    "        low_lr_sum += values[i]\n",
    "        low_lr_sum += values[i+1]\n",
    "        high_lr_sum += values[i+2]\n",
    "        high_lr_sum += values[i+3]\n",
    "    \n",
    "    return low_lr_sum, high_lr_sum\n",
    "\n",
    "def compare_wn(values):\n",
    "    low_wn_sum = 0\n",
    "    high_wn_sum = 0\n",
    "    \n",
    "    for i in range(0, len(values), 2):\n",
    "        low_wn_sum += values[i]\n",
    "        high_wn_sum += values[i+1]\n",
    "    return low_wn_sum , high_wn_sum"
   ]
  },
  {
   "cell_type": "code",
   "execution_count": null,
   "metadata": {},
   "outputs": [],
   "source": [
    "bert_easy_gs_sel = aggregate_by_grid_search(bert_easy_probing_rows)\n",
    "lstm_easy_gs_sel = aggregate_by_grid_search(lstm_easy_probing_rows)\n",
    "bert_hard_gs_sel = aggregate_by_grid_search(bert_hard_probing_rows)\n",
    "lstm_hard_gs_sel = aggregate_by_grid_search(lstm_hard_probing_rows)\n",
    "pprint(sum(lstm_easy_gs_sel[::2]))\n",
    "pprint(sum(lstm_easy_gs_sel[1::2]))\n",
    "\n",
    "print(compare_lr(bert_easy_gs_sel[8:16]))\n",
    "print(compare_lr(bert_hard_gs_sel[8:16]))\n",
    "print(compare_lr(lstm_easy_gs_sel[8:16]))\n",
    "print(compare_lr(lstm_hard_gs_sel[8:16]))\n",
    "print(\"\")\n",
    "print(compare_wn(bert_easy_gs_sel[8:16]))\n",
    "print(compare_wn(bert_hard_gs_sel[8:16]))\n",
    "print(compare_wn(lstm_easy_gs_sel[8:16]))\n",
    "print(compare_wn(lstm_hard_gs_sel[8:16]))"
   ]
  },
  {
   "cell_type": "markdown",
   "metadata": {},
   "source": [
    "## Organize intervention results"
   ]
  },
  {
   "cell_type": "code",
   "execution_count": null,
   "metadata": {},
   "outputs": [],
   "source": [
    "def aggregate_success_rates(rows):\n",
    "    causal_success_rates = {high_node: defaultdict(float) for high_node in high_nodes}\n",
    "    total_success_rates = {high_node: defaultdict(float) for high_node in high_nodes}\n",
    "    \n",
    "    for i, row in enumerate(rows):\n",
    "        abstraction = json.loads(row[\"abstraction\"])\n",
    "        high_node = abstraction[0]\n",
    "        low_node = abstraction[1][0]\n",
    "        mappings = json.loads(row[\"mappings\"])\n",
    "        locs = []\n",
    "        res_2_counts = json.loads(row[\"res_2_counts\"])\n",
    "        res_3_counts = json.loads(row[\"res_3_counts\"])\n",
    "        res_6_counts = json.loads(row[\"res_6_counts\"])\n",
    "        res_7_counts = json.loads(row[\"res_7_counts\"])\n",
    "        for j, mapping in enumerate(mappings):\n",
    "            low_loc_str = mapping[high_node][low_node]\n",
    "            low_loc = int(re.findall('\\d+', low_loc_str)[0])\n",
    "            causal_success_rate = res_3_counts[j] / (res_2_counts[j] + res_3_counts[j])\n",
    "            total_success_rate = (res_3_counts[j] + res_7_counts[j]) / (res_2_counts[j] + res_3_counts[j] + res_6_counts[j] + res_7_counts[j])\n",
    "            causal_success_rates[high_node][(low_node, low_loc)] = causal_success_rate\n",
    "            total_success_rates[high_node][(low_node, low_loc)] = total_success_rate\n",
    "    \n",
    "    return causal_success_rates, total_success_rates\n",
    "\n",
    "\n",
    "def aggregate_clique_sizes(rows):\n",
    "    clique_sizes = {high_node: defaultdict(float) for high_node in high_nodes}\n",
    "    \n",
    "    for i, row in enumerate(rows):\n",
    "        abstraction = json.loads(row[\"abstraction\"])\n",
    "        high_node = abstraction[0]\n",
    "        low_node = abstraction[1][0]\n",
    "        mappings = json.loads(row[\"mappings\"])\n",
    "        locs = []\n",
    "        row_clique_sizes = json.loads(row[\"max_clique_sizes\"])\n",
    "        for j, mapping in enumerate(mappings):\n",
    "            low_loc_str = mapping[high_node][low_node]\n",
    "            low_loc = int(re.findall('\\d+', low_loc_str)[0])\n",
    "\n",
    "            clique_sizes[high_node][(low_node, low_loc)] = row_clique_sizes[j]\n",
    "    \n",
    "    return clique_sizes"
   ]
  },
  {
   "cell_type": "code",
   "execution_count": null,
   "metadata": {},
   "outputs": [],
   "source": [
    "bert_easy_interx_causal, bert_easy_interx_total = aggregate_success_rates(bert_easy_interx_rows)\n",
    "lstm_easy_interx_causal, lstm_easy_interx_total = aggregate_success_rates(lstm_easy_interx_rows)\n",
    "\n",
    "bert_hard_interx_causal, bert_hard_interx_total = aggregate_success_rates(bert_hard_interx_rows)\n",
    "lstm_hard_interx_causal, lstm_hard_interx_total = aggregate_success_rates(lstm_hard_interx_rows)\n",
    "\n",
    "bert_easy_clq_sizes = aggregate_clique_sizes(bert_easy_interx_rows)\n",
    "bert_hard_clq_sizes = aggregate_clique_sizes(bert_hard_interx_rows)\n",
    "lstm_easy_clq_sizes = aggregate_clique_sizes(lstm_easy_interx_rows)\n",
    "lstm_hard_clq_sizes = aggregate_clique_sizes(lstm_hard_interx_rows)"
   ]
  },
  {
   "cell_type": "markdown",
   "metadata": {},
   "source": [
    "## Tools for Heatmap Plotting"
   ]
  },
  {
   "cell_type": "code",
   "execution_count": null,
   "metadata": {},
   "outputs": [],
   "source": [
    "import matplotlib.pyplot as plt\n",
    "import numpy as np\n",
    "import seaborn as sns\n",
    "import re\n",
    "\n",
    "def test_heatmap():\n",
    "    a = np.random.random((16, 16))\n",
    "    ax = sns.heatmap(a, cmap=\"YlGnBu\")\n",
    "\n",
    "def get_loc_name(loc, model_name):\n",
    "    loc_to_name = [\"[CLS]\", \n",
    "                  \"Q_S_p(1)\", \"Q_S_p(2)\", \"Adj_S_p\", \"N_S_p\", \"Neg_p(1)\", \"Neg_p(2)\", \n",
    "                   \"Adv_p\", \"V_p\", \"Q_O_p(1)\", \"Q_O_p(2)\", \"Adj_O_p\", \"N_O_p\",\n",
    "                  \"[SEP]\",\n",
    "                  \"Q_S_h(1)\", \"Q_S_h(2)\", \"Adj_S_h\", \"N_S_h\", \"Neg_h(1)\", \"Neg_h(2)\", \n",
    "                   \"Adv_h\", \"V_h\", \"Q_O_h(1)\", \"Q_O_h(2)\", \"Adj_O_h\", \"N_O_h\",\n",
    "                  \"[SEP]\"]\n",
    "#     if \"lstm\" in model_name.lower():\n",
    "#         loc_to_name = [\"Q_S_p\", \"Adj_S_p\", \"N_S_p\", \"Neg_p\", \"Adv_p\", \"V_p\", \"Q_O_p\", \"Adj_O_p\", \"N_O_p\",\n",
    "#                       \"[SEP]\",\n",
    "#                       \"Q_S_h\", \"Adj_S_h\", \"N_S_h\", \"Neg_h\", \"Adv_h\", \"V_h\", \"Q_O_h\", \"Adj_O_h\", \"N_O_h\"]\n",
    "    return loc_to_name[loc]\n",
    "\n",
    "def heatmap(high_node, max_info, model_name, title=\"probing-sel\", high_node_name=None):\n",
    "    d = max_info[high_node]\n",
    "    layers = set()\n",
    "    locs = set()\n",
    "    \n",
    "    rand_baseline = 1 / probing.utils.HIGH_NODE_LABEL_SPACE[high_node]\n",
    "\n",
    "    for layer, loc in d.keys():\n",
    "        idx_layer = int(re.findall('\\d+', layer)[0])\n",
    "        if isinstance(loc, str):\n",
    "            int_loc = int(re.findall('\\d+', loc)[0])\n",
    "        else:\n",
    "            int_loc = loc\n",
    "        layers.add(idx_layer)\n",
    "        locs.add(int_loc)\n",
    "    \n",
    "    layers = sorted(layers)\n",
    "    locs = sorted(locs)\n",
    "    loc_names = [get_loc_name(loc, model_name) for loc in sorted(locs)]\n",
    "    loc_to_idx = {l: i for i, l in enumerate(locs)}\n",
    "\n",
    "    heatmap_data = np.zeros((len(layers), len(locs)))\n",
    "    \n",
    "    for (layer, loc), acc in d.items():\n",
    "        idx_layer = int(re.findall('\\d+', layer)[0])\n",
    "        if isinstance(loc, str):\n",
    "            int_loc = int(re.findall('\\d+', loc)[0])\n",
    "        else:\n",
    "            int_loc = loc\n",
    "        idx_loc = loc_to_idx[int_loc]\n",
    "        heatmap_data[idx_layer, idx_loc] = acc\n",
    "    \n",
    "    xticklabels = loc_names\n",
    "    yticklabels = layers\n",
    "    \n",
    "    color_dict = {\"probing-sel\": \"YlGnBu\", \"probing-acc\": \"YlGnBu\", \n",
    "                  \"interx\": \"YlOrRd\", \"clq-size\": \"YlOrRd\"}\n",
    "    \n",
    "    ax = sns.heatmap(heatmap_data, \n",
    "                     cmap=color_dict[title], \n",
    "                     xticklabels=xticklabels,\n",
    "                     yticklabels=yticklabels)\n",
    "    ax.invert_yaxis()\n",
    "    high_node_name = high_node_name if high_node_name else high_node\n",
    "    if title == \"probing-sel\":\n",
    "        ax.set_title(f\"Probing selectivity for {high_node_name} in {model_name}\")\n",
    "    elif title == \"probing-acc\":\n",
    "        ax.set_title(f\"Probing accuracy for {high_node_name} in {model_name}\")\n",
    "    elif title == \"interx\":\n",
    "        ax.set_title(f\"Interchange success rate for {high_node_name} in {model_name}\")\n",
    "    elif title == \"clq-size\":\n",
    "        ax.set_title(f\"Clique sizes for {high_node_name} in {model_name}\")\n",
    "    \n",
    "    "
   ]
  },
  {
   "cell_type": "markdown",
   "metadata": {},
   "source": [
    "## Probing accuracies for Bert-Easy"
   ]
  },
  {
   "cell_type": "markdown",
   "metadata": {},
   "source": [
    "### Sentence_q"
   ]
  },
  {
   "cell_type": "code",
   "execution_count": null,
   "metadata": {},
   "outputs": [],
   "source": [
    "# test_heatmap()\n",
    "heatmap(\"sentence_q\", bert_hard_probing_max_sel, \"Bert-Hard\")"
   ]
  },
  {
   "cell_type": "code",
   "execution_count": null,
   "metadata": {},
   "outputs": [],
   "source": [
    "heatmap(\"sentence_q\", bert_hard_clq_sizes, \"Bert-Hard\", \"clq-size\")"
   ]
  },
  {
   "cell_type": "code",
   "execution_count": null,
   "metadata": {},
   "outputs": [],
   "source": [
    "heatmap(\"sentence_q\", bert_hard_interx_total, \"Bert-Hard\", \"interx\")"
   ]
  },
  {
   "cell_type": "code",
   "execution_count": null,
   "metadata": {},
   "outputs": [],
   "source": [
    "heatmap(\"sentence_q\", lstm_hard_probing_max_sel, \"LSTM-Hard\")"
   ]
  },
  {
   "cell_type": "code",
   "execution_count": null,
   "metadata": {},
   "outputs": [],
   "source": [
    "heatmap(\"sentence_q\", lstm_hard_interx_causal, \"LSTM-Hard\", \"interx\")"
   ]
  },
  {
   "cell_type": "code",
   "execution_count": null,
   "metadata": {},
   "outputs": [],
   "source": [
    "heatmap(\"sentence_q\", bert_easy_probing_max_sel, \"Bert-Easy\")"
   ]
  },
  {
   "cell_type": "code",
   "execution_count": null,
   "metadata": {},
   "outputs": [],
   "source": [
    "heatmap(\"sentence_q\", bert_easy_interx_causal, \"Bert-Easy\", \"interx\")"
   ]
  },
  {
   "cell_type": "code",
   "execution_count": null,
   "metadata": {},
   "outputs": [],
   "source": [
    "heatmap(\"sentence_q\", lstm_easy_probing_max_sel, \"LSTM-Easy\")"
   ]
  },
  {
   "cell_type": "markdown",
   "metadata": {},
   "source": [
    "### Subj"
   ]
  },
  {
   "cell_type": "code",
   "execution_count": null,
   "metadata": {},
   "outputs": [],
   "source": [
    "heatmap(\"subj\", bert_hard_probing_max_sel, \"Bert-Hard\", high_node_name=\"NP_subj\")"
   ]
  },
  {
   "cell_type": "code",
   "execution_count": null,
   "metadata": {},
   "outputs": [],
   "source": [
    "heatmap(\"subj\", bert_hard_probing_max_acc, \"Bert-Hard\", \"probing-acc\", high_node_name=\"NP_subj\")"
   ]
  },
  {
   "cell_type": "code",
   "execution_count": null,
   "metadata": {},
   "outputs": [],
   "source": [
    "heatmap(\"subj\", bert_hard_interx_causal, \"Bert-Hard\", \"interx\", high_node_name=\"NP_subj\")"
   ]
  },
  {
   "cell_type": "code",
   "execution_count": null,
   "metadata": {},
   "outputs": [],
   "source": [
    "heatmap(\"subj\", lstm_hard_probing_max_sel, \"LSTM-Hard\")"
   ]
  },
  {
   "cell_type": "code",
   "execution_count": null,
   "metadata": {},
   "outputs": [],
   "source": [
    "heatmap(\"subj\", lstm_hard_interx_causal, \"LSTM-Hard\", \"interx\")"
   ]
  },
  {
   "cell_type": "code",
   "execution_count": null,
   "metadata": {},
   "outputs": [],
   "source": [
    "heatmap(\"sentence_q\", bert_easy_probing_max_sel, \"Bert-Easy\")"
   ]
  },
  {
   "cell_type": "code",
   "execution_count": null,
   "metadata": {},
   "outputs": [],
   "source": [
    "heatmap(\"sentence_q\", bert_easy_interx_causal, \"Bert-Easy\", \"interx\")"
   ]
  },
  {
   "cell_type": "markdown",
   "metadata": {},
   "source": [
    "### Subj_adj"
   ]
  },
  {
   "cell_type": "code",
   "execution_count": null,
   "metadata": {},
   "outputs": [],
   "source": [
    "heatmap(\"subj_adj\", bert_hard_probing_max_sel, \"Bert-Hard\", high_node_name=\"Adj_subj\")"
   ]
  },
  {
   "cell_type": "code",
   "execution_count": null,
   "metadata": {},
   "outputs": [],
   "source": [
    "heatmap(\"subj_adj\", bert_hard_probing_max_acc, \"Bert-Hard\", \"probing-acc\", high_node_name=\"Adj_subj\")"
   ]
  },
  {
   "cell_type": "code",
   "execution_count": null,
   "metadata": {},
   "outputs": [],
   "source": [
    "heatmap(\"subj_adj\", lstm_hard_probing_max_sel, \"LSTM-Hard\")"
   ]
  },
  {
   "cell_type": "code",
   "execution_count": null,
   "metadata": {},
   "outputs": [],
   "source": [
    "heatmap(\"subj_adj\", bert_hard_interx_causal, \"Bert-Hard\", \"interx\", high_node_name=\"Adj_subj\")"
   ]
  },
  {
   "cell_type": "code",
   "execution_count": null,
   "metadata": {},
   "outputs": [],
   "source": [
    "heatmap(\"subj_adj\", lstm_hard_interx_causal, \"LSTM-Hard\", \"interx\")"
   ]
  },
  {
   "cell_type": "markdown",
   "metadata": {},
   "source": [
    "### subj_noun"
   ]
  },
  {
   "cell_type": "code",
   "execution_count": null,
   "metadata": {},
   "outputs": [],
   "source": [
    "heatmap(\"subj_noun\", bert_hard_probing_max_sel, \"Bert-Hard\", high_node_name=\"N_subj\")"
   ]
  },
  {
   "cell_type": "code",
   "execution_count": null,
   "metadata": {},
   "outputs": [],
   "source": [
    "heatmap(\"subj_noun\", bert_hard_probing_max_acc, \"Bert-Hard\", \"probing-acc\", high_node_name=\"N_subj\")"
   ]
  },
  {
   "cell_type": "code",
   "execution_count": null,
   "metadata": {},
   "outputs": [],
   "source": [
    "heatmap(\"subj_noun\", lstm_hard_probing_max_sel, \"LSTM-Hard\")"
   ]
  },
  {
   "cell_type": "code",
   "execution_count": null,
   "metadata": {},
   "outputs": [],
   "source": [
    "heatmap(\"subj_noun\", bert_hard_interx_causal, \"Bert-Hard\", \"interx\", high_node_name=\"N_subj\")"
   ]
  },
  {
   "cell_type": "code",
   "execution_count": null,
   "metadata": {},
   "outputs": [],
   "source": [
    "heatmap(\"subj_noun\", lstm_hard_interx_causal, \"LSTM-Hard\", \"interx\")"
   ]
  },
  {
   "cell_type": "markdown",
   "metadata": {},
   "source": [
    "### negp"
   ]
  },
  {
   "cell_type": "code",
   "execution_count": null,
   "metadata": {},
   "outputs": [],
   "source": [
    "heatmap(\"negp\", bert_hard_probing_max_sel, \"Bert-Hard\", high_node_name=\"NegP\")"
   ]
  },
  {
   "cell_type": "code",
   "execution_count": null,
   "metadata": {},
   "outputs": [],
   "source": [
    "heatmap(\"negp\", bert_hard_probing_max_acc, \"Bert-Hard\", \"probing-acc\", high_node_name=\"NegP\")"
   ]
  },
  {
   "cell_type": "code",
   "execution_count": null,
   "metadata": {},
   "outputs": [],
   "source": [
    "heatmap(\"negp\", lstm_hard_probing_max_sel, \"LSTM-Hard\")"
   ]
  },
  {
   "cell_type": "code",
   "execution_count": null,
   "metadata": {},
   "outputs": [],
   "source": [
    "heatmap(\"negp\", bert_hard_interx_causal, \"Bert-Hard\", \"interx\",high_node_name=\"NegP\")"
   ]
  },
  {
   "cell_type": "code",
   "execution_count": null,
   "metadata": {},
   "outputs": [],
   "source": [
    "heatmap(\"negp\", lstm_hard_interx_causal, \"LSTM-Hard\", \"interx\")"
   ]
  },
  {
   "cell_type": "markdown",
   "metadata": {},
   "source": [
    "### neg"
   ]
  },
  {
   "cell_type": "code",
   "execution_count": null,
   "metadata": {},
   "outputs": [],
   "source": [
    "heatmap(\"neg\", bert_hard_probing_max_sel, \"Bert-Hard\")"
   ]
  },
  {
   "cell_type": "code",
   "execution_count": null,
   "metadata": {},
   "outputs": [],
   "source": [
    "heatmap(\"neg\", lstm_hard_probing_max_sel, \"LSTM-Hard\")"
   ]
  },
  {
   "cell_type": "code",
   "execution_count": null,
   "metadata": {},
   "outputs": [],
   "source": [
    "heatmap(\"neg\", bert_hard_interx_causal, \"Bert-Hard\", \"interx\")"
   ]
  },
  {
   "cell_type": "code",
   "execution_count": null,
   "metadata": {},
   "outputs": [],
   "source": [
    "heatmap(\"neg\", lstm_hard_interx_causal, \"LSTM-Hard\", \"interx\")"
   ]
  },
  {
   "cell_type": "markdown",
   "metadata": {},
   "source": [
    "### vp"
   ]
  },
  {
   "cell_type": "code",
   "execution_count": null,
   "metadata": {},
   "outputs": [],
   "source": [
    "heatmap(\"vp\", bert_hard_probing_max_sel, \"Bert-Hard\", high_node_name=\"QP_Obj\")"
   ]
  },
  {
   "cell_type": "code",
   "execution_count": null,
   "metadata": {},
   "outputs": [],
   "source": [
    "heatmap(\"vp\", bert_hard_probing_max_acc, \"Bert-Hard\", \"probing-acc\", high_node_name=\"QP_Obj\")"
   ]
  },
  {
   "cell_type": "code",
   "execution_count": null,
   "metadata": {},
   "outputs": [],
   "source": [
    "heatmap(\"vp\", lstm_hard_probing_max_sel, \"LSTM-Hard\")"
   ]
  },
  {
   "cell_type": "code",
   "execution_count": null,
   "metadata": {},
   "outputs": [],
   "source": [
    "heatmap(\"vp\", bert_hard_interx_causal, \"Bert-Hard\", \"interx\", high_node_name=\"QP_Obj\")"
   ]
  },
  {
   "cell_type": "code",
   "execution_count": null,
   "metadata": {},
   "outputs": [],
   "source": [
    "heatmap(\"vp\", lstm_hard_interx_causal, \"LSTM-Hard\", \"interx\")"
   ]
  },
  {
   "cell_type": "markdown",
   "metadata": {},
   "source": [
    "### vp_q"
   ]
  },
  {
   "cell_type": "code",
   "execution_count": null,
   "metadata": {},
   "outputs": [],
   "source": [
    "heatmap(\"vp_q\", bert_hard_probing_max_sel, \"Bert-Hard\")"
   ]
  },
  {
   "cell_type": "code",
   "execution_count": null,
   "metadata": {},
   "outputs": [],
   "source": [
    "heatmap(\"vp_q\", lstm_hard_probing_max_sel, \"LSTM-Hard\")"
   ]
  },
  {
   "cell_type": "code",
   "execution_count": null,
   "metadata": {},
   "outputs": [],
   "source": [
    "heatmap(\"vp_q\", bert_hard_interx_causal, \"Bert-Hard\", \"interx\")"
   ]
  },
  {
   "cell_type": "code",
   "execution_count": null,
   "metadata": {},
   "outputs": [],
   "source": [
    "heatmap(\"vp_q\", lstm_hard_interx_causal, \"LSTM-Hard\", \"interx\")"
   ]
  },
  {
   "cell_type": "markdown",
   "metadata": {},
   "source": [
    "### v_bar"
   ]
  },
  {
   "cell_type": "code",
   "execution_count": null,
   "metadata": {},
   "outputs": [],
   "source": [
    "heatmap(\"v_bar\", bert_hard_probing_max_sel, \"Bert-Hard\", high_node_name=\"VP\")"
   ]
  },
  {
   "cell_type": "code",
   "execution_count": null,
   "metadata": {},
   "outputs": [],
   "source": [
    "heatmap(\"v_bar\", bert_hard_probing_max_acc, \"Bert-Hard\", \"probing-acc\", high_node_name=\"VP\")"
   ]
  },
  {
   "cell_type": "code",
   "execution_count": null,
   "metadata": {},
   "outputs": [],
   "source": [
    "heatmap(\"v_bar\", lstm_hard_probing_max_sel, \"LSTM-Hard\")"
   ]
  },
  {
   "cell_type": "code",
   "execution_count": null,
   "metadata": {},
   "outputs": [],
   "source": [
    "heatmap(\"v_bar\", bert_hard_interx_causal, \"Bert-Hard\", \"interx\", high_node_name=\"VP\")"
   ]
  },
  {
   "cell_type": "code",
   "execution_count": null,
   "metadata": {},
   "outputs": [],
   "source": [
    "heatmap(\"v_bar\", lstm_hard_interx_causal, \"LSTM-Hard\", \"interx\")"
   ]
  },
  {
   "cell_type": "markdown",
   "metadata": {},
   "source": [
    "### v_adv"
   ]
  },
  {
   "cell_type": "code",
   "execution_count": null,
   "metadata": {},
   "outputs": [],
   "source": [
    "heatmap(\"v_adv\", bert_hard_probing_max_sel, \"Bert-Hard\", high_node_name=\"Adv\")"
   ]
  },
  {
   "cell_type": "code",
   "execution_count": null,
   "metadata": {},
   "outputs": [],
   "source": [
    "heatmap(\"v_adv\", bert_hard_probing_max_acc, \"Bert-Hard\", \"probing-acc\", high_node_name=\"Adv\")"
   ]
  },
  {
   "cell_type": "code",
   "execution_count": null,
   "metadata": {},
   "outputs": [],
   "source": [
    "heatmap(\"v_adv\", lstm_hard_probing_max_sel, \"LSTM-Hard\")"
   ]
  },
  {
   "cell_type": "code",
   "execution_count": null,
   "metadata": {},
   "outputs": [],
   "source": [
    "heatmap(\"v_adv\", bert_hard_interx_causal, \"Bert-Hard\", \"interx\", high_node_name=\"Adv\")"
   ]
  },
  {
   "cell_type": "code",
   "execution_count": null,
   "metadata": {},
   "outputs": [],
   "source": [
    "heatmap(\"v_adv\", lstm_hard_interx_causal, \"LSTM-Hard\", \"interx\")"
   ]
  },
  {
   "cell_type": "markdown",
   "metadata": {},
   "source": [
    "### v_verb"
   ]
  },
  {
   "cell_type": "code",
   "execution_count": null,
   "metadata": {},
   "outputs": [],
   "source": [
    "heatmap(\"v_verb\", bert_hard_probing_max_sel, \"Bert-Hard\", high_node_name=\"V\")"
   ]
  },
  {
   "cell_type": "code",
   "execution_count": null,
   "metadata": {},
   "outputs": [],
   "source": [
    "heatmap(\"v_verb\", bert_hard_probing_max_acc, \"Bert-Hard\", \"probing-acc\", high_node_name=\"V\")"
   ]
  },
  {
   "cell_type": "code",
   "execution_count": null,
   "metadata": {},
   "outputs": [],
   "source": [
    "heatmap(\"v_verb\", lstm_hard_probing_max_sel, \"LSTM-Hard\")"
   ]
  },
  {
   "cell_type": "code",
   "execution_count": null,
   "metadata": {},
   "outputs": [],
   "source": [
    "heatmap(\"v_verb\", bert_hard_interx_causal, \"Bert-Hard\", \"interx\", high_node_name=\"V\")"
   ]
  },
  {
   "cell_type": "code",
   "execution_count": null,
   "metadata": {},
   "outputs": [],
   "source": [
    "heatmap(\"v_verb\", lstm_hard_interx_causal, \"LSTM-Hard\", \"interx\")"
   ]
  },
  {
   "cell_type": "markdown",
   "metadata": {},
   "source": [
    "### obj"
   ]
  },
  {
   "cell_type": "code",
   "execution_count": null,
   "metadata": {},
   "outputs": [],
   "source": [
    "heatmap(\"obj\", bert_hard_probing_max_sel, \"Bert-Hard\", high_node_name=\"NP_obj\")"
   ]
  },
  {
   "cell_type": "code",
   "execution_count": null,
   "metadata": {},
   "outputs": [],
   "source": [
    "heatmap(\"obj\", bert_hard_probing_max_acc, \"Bert-Hard\", \"probing-acc\", high_node_name=\"NP_obj\")"
   ]
  },
  {
   "cell_type": "code",
   "execution_count": null,
   "metadata": {},
   "outputs": [],
   "source": [
    "heatmap(\"obj\", lstm_hard_probing_max_sel, \"LSTM-Hard\")"
   ]
  },
  {
   "cell_type": "code",
   "execution_count": null,
   "metadata": {},
   "outputs": [],
   "source": [
    "heatmap(\"obj\", bert_hard_interx_causal, \"Bert-Hard\", \"interx\", high_node_name=\"NP_obj\")"
   ]
  },
  {
   "cell_type": "code",
   "execution_count": null,
   "metadata": {},
   "outputs": [],
   "source": [
    "heatmap(\"obj\", lstm_hard_interx_causal, \"LSTM-Hard\", \"interx\")"
   ]
  },
  {
   "cell_type": "markdown",
   "metadata": {},
   "source": [
    "### obj_adj"
   ]
  },
  {
   "cell_type": "code",
   "execution_count": null,
   "metadata": {},
   "outputs": [],
   "source": [
    "heatmap(\"obj_adj\", bert_hard_probing_max_sel, \"Bert-Hard\", high_node_name=\"Adj_obj\")"
   ]
  },
  {
   "cell_type": "code",
   "execution_count": null,
   "metadata": {},
   "outputs": [],
   "source": [
    "heatmap(\"obj_adj\", bert_hard_probing_max_acc, \"Bert-Hard\", \"probing-acc\", high_node_name=\"Adj_obj\")"
   ]
  },
  {
   "cell_type": "code",
   "execution_count": null,
   "metadata": {},
   "outputs": [],
   "source": [
    "heatmap(\"obj_adj\", lstm_hard_probing_max_sel, \"LSTM-Hard\")"
   ]
  },
  {
   "cell_type": "code",
   "execution_count": null,
   "metadata": {},
   "outputs": [],
   "source": [
    "heatmap(\"obj_adj\", bert_hard_interx_causal, \"Bert-Hard\", \"interx\", high_node_name=\"Adv_obj\")"
   ]
  },
  {
   "cell_type": "code",
   "execution_count": null,
   "metadata": {},
   "outputs": [],
   "source": [
    "heatmap(\"obj_adj\", lstm_hard_interx_causal, \"LSTM-Hard\", \"interx\")"
   ]
  },
  {
   "cell_type": "markdown",
   "metadata": {},
   "source": [
    "### obj_noun"
   ]
  },
  {
   "cell_type": "code",
   "execution_count": null,
   "metadata": {},
   "outputs": [],
   "source": [
    "heatmap(\"obj_noun\", bert_hard_probing_max_sel, \"Bert-Hard\", high_node_name=\"N_obj\")"
   ]
  },
  {
   "cell_type": "code",
   "execution_count": null,
   "metadata": {},
   "outputs": [],
   "source": [
    "heatmap(\"obj_noun\", bert_hard_probing_max_acc, \"Bert-Hard\", \"probing-acc\", high_node_name=\"N_obj\")"
   ]
  },
  {
   "cell_type": "code",
   "execution_count": null,
   "metadata": {},
   "outputs": [],
   "source": [
    "heatmap(\"obj_noun\", lstm_hard_probing_max_sel, \"LSTM-Hard\")"
   ]
  },
  {
   "cell_type": "code",
   "execution_count": null,
   "metadata": {},
   "outputs": [],
   "source": [
    "heatmap(\"obj_noun\", bert_hard_interx_causal, \"Bert-Hard\", \"interx\")"
   ]
  }
 ],
 "metadata": {
  "kernelspec": {
   "display_name": "Python 3",
   "language": "python",
   "name": "python3"
  },
  "language_info": {
   "codemirror_mode": {
    "name": "ipython",
    "version": 3
   },
   "file_extension": ".py",
   "mimetype": "text/x-python",
   "name": "python",
   "nbconvert_exporter": "python",
   "pygments_lexer": "ipython3",
   "version": "3.8.3"
  }
 },
 "nbformat": 4,
 "nbformat_minor": 4
}
